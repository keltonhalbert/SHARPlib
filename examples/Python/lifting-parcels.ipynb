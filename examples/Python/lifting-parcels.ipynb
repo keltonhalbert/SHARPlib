{
 "cells": [
  {
   "cell_type": "markdown",
   "id": "74927c5c-d688-4339-9f12-42fa52ec2349",
   "metadata": {},
   "source": [
    "# SHARPlib -- Lifting Parcels\n",
    "This is a tutorial notebook on how to conduct parcel lifting operations using SHARPlib. \n",
    "\n",
    "SHARPlib has a bit of a different take on parcel lifting relative to existing libraries, allowing for configurable moist adiabats and pseudoadiabats as part of the API. This also means that the API is a little more verbose, since rather than providing a one-size-fits-all function to do this, it instead provides composable functions to achieve a desired end result. If that sounds confusing, don't worry too much about it! You'll soon see how you can use the different building blocks within SHARPlib to do some rather interesting computations.\n",
    "\n",
    "## Step 0: Imports and Loading Data\n",
    "Before we can get started, we need to import the modules we would like to use, and load some testing data provided with the repository. The data are stored in the Apache Parquet format, which Pandas can read as long as a compatible Parquet reader is installed (e.g. pyarrow, fastparquet).\n",
    "\n",
    "The data we are using is from a real weather balloon launch -- 2016-05-24 1900 UTC at Dodge City, Kansas. It is a raw, full resolution dataset with a sample every 1-second during the balloon ascent, containing several thousand vertical levels. This much data can be slow to process in pure-Python (for example, in SHARPpy) so it makes for an excellent example to show how powerful SHARPlib can be. However, because it is a real-world field data source, it isn't exactly clean. It contains some missing values and requires unit conversion, so a convenience function is provided below for data loading. \n",
    "\n",
    "This is a good time to tell you that SHARPlib expects you to be responsible for your own data formatting and pre-processing, though it does have internal QC checks for missing values. It expects all data to be in base metric units -- Pascals, Kelvin, meters / second, g / g, etc."
   ]
  },
  {
   "cell_type": "code",
   "execution_count": 17,
   "id": "8290a639-f56d-4b6b-a8ec-cca8f8eedf3a",
   "metadata": {},
   "outputs": [],
   "source": [
    "from nwsspc.sharp.calc import parcel\n",
    "from nwsspc.sharp.calc import thermo\n",
    "from nwsspc.sharp.calc import layer\n",
    "import pandas as pd \n",
    "import numpy as np "
   ]
  },
  {
   "cell_type": "code",
   "execution_count": 13,
   "id": "152b4f74-2c8f-4e7d-ac5f-6af721b2daed",
   "metadata": {},
   "outputs": [],
   "source": [
    "def load_parquet(filename):\n",
    "    snd_df = pd.read_parquet(filename)\n",
    "    snd_df = snd_df[snd_df[\"vwin\"].notna()]\n",
    "    snd_df = snd_df[snd_df[\"tmpc\"].notna()]\n",
    "    snd_df = snd_df[snd_df[\"relh\"].notna()]\n",
    "    snd_df = snd_df[snd_df[\"pres\"] >= 50.0]\n",
    "\n",
    "    pres = snd_df[\"pres\"].to_numpy().astype('float32')*100.0\n",
    "    hght = snd_df[\"hght\"].to_numpy().astype('float32')\n",
    "    tmpk = snd_df[\"tmpc\"].to_numpy().astype('float32')+273.15\n",
    "    dwpk = snd_df[\"dwpc\"].to_numpy().astype('float32')+273.15\n",
    "    wdir = snd_df[\"wdir\"].to_numpy().astype('float32')\n",
    "    wspd = snd_df[\"wspd\"].to_numpy().astype('float32')\n",
    "    uwin = snd_df[\"uwin\"].to_numpy().astype('float32')\n",
    "    vwin = snd_df[\"vwin\"].to_numpy().astype('float32')\n",
    "\n",
    "    # turn into height above ground level\n",
    "    hght -= hght[0]\n",
    "\n",
    "    # TO-DO - need a better interface to the API for doing this\n",
    "    # uwin = np.empty(wspd.shape, dtype=\"float32\")\n",
    "    # vwin = np.empty(wspd.shape, dtype=\"float32\")\n",
    "    mixr = thermo.mixratio(pres, dwpk)\n",
    "    vtmp = thermo.virtual_temperature(tmpk, mixr)\n",
    "\n",
    "    return {\n",
    "        \"pres\": pres, \"hght\": hght,\n",
    "        \"tmpk\": tmpk, \"mixr\": mixr,\n",
    "        \"vtmp\": vtmp, \"dwpk\": dwpk,\n",
    "        \"wdir\": wdir, \"wspd\": wspd,\n",
    "        \"uwin\": uwin, \"vwin\": vwin\n",
    "    }\n",
    "\n",
    "snd_data = load_parquet(\"../../data/test_snds/ddc.parquet\")"
   ]
  },
  {
   "cell_type": "code",
   "execution_count": null,
   "id": "b90b038d-21b8-4c58-bfdd-de0e02a289f0",
   "metadata": {},
   "outputs": [],
   "source": []
  }
 ],
 "metadata": {
  "kernelspec": {
   "display_name": "Python 3 (ipykernel)",
   "language": "python",
   "name": "python3"
  },
  "language_info": {
   "codemirror_mode": {
    "name": "ipython",
    "version": 3
   },
   "file_extension": ".py",
   "mimetype": "text/x-python",
   "name": "python",
   "nbconvert_exporter": "python",
   "pygments_lexer": "ipython3",
   "version": "3.13.3"
  }
 },
 "nbformat": 4,
 "nbformat_minor": 5
}
