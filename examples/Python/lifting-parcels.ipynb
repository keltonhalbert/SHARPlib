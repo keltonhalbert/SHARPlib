{
 "cells": [
  {
   "cell_type": "markdown",
   "id": "74927c5c-d688-4339-9f12-42fa52ec2349",
   "metadata": {},
   "source": [
    "# **SHARPlib -- Lifting Parcels**\n",
    "This is a tutorial notebook on how to conduct parcel lifting operations using SHARPlib. \n",
    "\n",
    "SHARPlib has a bit of a different take on parcel lifting relative to existing libraries, allowing for configurable moist adiabats and pseudoadiabats as part of the API. This also means that the API is a little more verbose, since rather than providing a one-size-fits-all function to do this, it instead provides composable functions to achieve a desired end result. If that sounds confusing, don't worry too much about it! You'll soon see how you can use the different building blocks within SHARPlib to do some rather interesting computations.\n",
    "\n",
    "Since the SHARPlib API for parcel lifting is much more verbose than other available implementations, a quick refresher on what CAPE and CINH are could be useful. In order to facilitate customization and flexibility, the API was designed around the mathematical representation first. \n",
    "\n",
    "<span style=\"font-size:150%\">$$\n",
    "CAPE = \\int_{\\mathrm{LFC}}^{\\mathrm{EL}} \\frac{T_v - T_{\\mathrm{env}}}{T_{\\mathrm{env}}} \\, dz\n",
    "$$\n",
    "$$\n",
    "CINH = \\int_{\\mathrm{LPL}}^{\\mathrm{LFC}} \\frac{T_v - T_{\\mathrm{env}}}{T_{\\mathrm{env}}} \\, dz\n",
    "$$\n",
    "</span>\n",
    "\n",
    "**LPL** is the height of the **Lifted Parcel Level** (originating level), **LFC** is the height of the **Level of Free Convevtion**, **EL** is the height of the **Equilibrium Level**, $T_v$ is the **parcel virtual temperature**, $T_{env}$ is the **environment virtual temperature**, and $dz$ is the **delta in the height coordinate**. So, looking at these equations, we can see that in order to get CAPE, we need to integrate buoyancy... and to get buoyancy, we need the parcel virtual temperature... and to get the parcel virtual temperature, we need to define parcels to lift, and how we want them lifted. This is how the tutorial will be structured. \n",
    "\n",
    "## **Step 0: Imports and Loading Data**\n",
    "Before we can get started, we need to import the modules we would like to use, and load some testing data provided with the repository. The data are stored in the Apache Parquet format, which Pandas can read as long as a compatible Parquet reader is installed (e.g. pyarrow, fastparquet).\n",
    "\n",
    "The data we are using is from a real weather balloon launch -- **2016-05-24 1900 UTC at Dodge City, Kansas**. It is a raw, full resolution dataset with a sample every 1-second during the balloon ascent, containing several thousand vertical levels. This much data can be slow to process in pure-Python (for example, in SHARPpy) so it makes for an excellent example to show how powerful SHARPlib can be. However, because it is a real-world field data source, it isn't exactly clean. It contains some missing values and requires unit conversion, so a convenience function is provided below for data loading. \n",
    "\n",
    "This is a good time to tell you that SHARPlib expects you to be responsible for your own data formatting and pre-processing, though it does have internal QC checks for missing values. It expects all data to be in base metric units -- Pascals, Kelvin, meters / second, g / g, etc. -- rather than relying on any unit conversion libraries. "
   ]
  },
  {
   "cell_type": "code",
   "execution_count": null,
   "id": "8290a639-f56d-4b6b-a8ec-cca8f8eedf3a",
   "metadata": {},
   "outputs": [],
   "source": [
    "from nwsspc.sharp.calc import constants\n",
    "from nwsspc.sharp.calc import parcel\n",
    "from nwsspc.sharp.calc import params\n",
    "from nwsspc.sharp.calc import thermo\n",
    "from nwsspc.sharp.calc import layer\n",
    "\n",
    "import matplotlib.pyplot as plt\n",
    "from metpy.plots import SkewT\n",
    "import pandas as pd \n",
    "import numpy as np "
   ]
  },
  {
   "cell_type": "code",
   "execution_count": null,
   "id": "152b4f74-2c8f-4e7d-ac5f-6af721b2daed",
   "metadata": {},
   "outputs": [],
   "source": [
    "def load_parquet(filename):\n",
    "    snd_df = pd.read_parquet(filename)\n",
    "    snd_df = snd_df[snd_df[\"vwin\"].notna()]\n",
    "    snd_df = snd_df[snd_df[\"tmpc\"].notna()]\n",
    "    snd_df = snd_df[snd_df[\"relh\"].notna()]\n",
    "    snd_df = snd_df[snd_df[\"pres\"] >= 50.0]\n",
    "\n",
    "    pres = snd_df[\"pres\"].to_numpy().astype('float32')*100.0\n",
    "    hght = snd_df[\"hght\"].to_numpy().astype('float32')\n",
    "    tmpk = snd_df[\"tmpc\"].to_numpy().astype('float32')+273.15\n",
    "    dwpk = snd_df[\"dwpc\"].to_numpy().astype('float32')+273.15\n",
    "    wdir = snd_df[\"wdir\"].to_numpy().astype('float32')\n",
    "    wspd = snd_df[\"wspd\"].to_numpy().astype('float32')\n",
    "    uwin = snd_df[\"uwin\"].to_numpy().astype('float32')\n",
    "    vwin = snd_df[\"vwin\"].to_numpy().astype('float32')\n",
    "\n",
    "    # turn into height above ground level\n",
    "    hght -= hght[0]\n",
    "\n",
    "    mixr = thermo.mixratio(pres, dwpk)\n",
    "    vtmp = thermo.virtual_temperature(tmpk, mixr)\n",
    "\n",
    "    return {\n",
    "        \"pres\": pres, \"hght\": hght,\n",
    "        \"tmpk\": tmpk, \"mixr\": mixr,\n",
    "        \"vtmp\": vtmp, \"dwpk\": dwpk,\n",
    "        \"wdir\": wdir, \"wspd\": wspd,\n",
    "        \"uwin\": uwin, \"vwin\": vwin\n",
    "    }\n",
    "\n",
    "snd_data = load_parquet(\"../../data/test_snds/ddc.parquet\")\n",
    "print(f\"Number of vertical levels: {snd_data[\"pres\"].shape[0]}\")\n",
    "print(f\"Pressure Bottom:\\t{snd_data[\"pres\"][0]} Pa,\\tHeight Bottom:\\t{snd_data[\"hght\"][0]} meters AGL\")\n",
    "print(f\"Pressure Top:\\t\\t{snd_data[\"pres\"][-1]} Pa,\\tHeight Top:\\t{snd_data[\"hght\"][-1]} meters AGL\") "
   ]
  },
  {
   "cell_type": "markdown",
   "id": "94c4f2cf-e5e2-42ef-9a98-58d06f09284b",
   "metadata": {},
   "source": [
    "## **Step 1: Configuring the Moist Adiabats**\n",
    "SHARPlib currently supports two different \"parcel lifters\" that can be used to compute moist ascent. The first is the Wobus lifter, which is an approximation derived by mathematician Henry Wobus and is computationally efficient. The Wobus lifter is also the method traditionally used by the SPC in its sounding and mesoanalysis computations. However, as discussed in [Davies-Jones 2007](https://journals.ametsoc.org/view/journals/mwre/136/7/2007mwr2224.1.xml), it can result in errors in the parcel temperature over 1K, and some of the assumptions in the derivation of the Wobus lifter don't hold up. The alternative provided by SHARPlib is to use the calculations from [Bryan and Fritsch 2004](https://journals.ametsoc.org/view/journals/mwre/132/10/1520-0493_2004_132_2421_aroiwp_2.0.co_2.xml), which are used in Bryan's Cloud Model 1 (CM1) to compute CAPE/CINH. The CM1 parcel lifting approach can be configured for adiabatic and pseudoadiabatic ascent, each with the ability to include or exclude ice phase processes. We'll go through how to configure these parcel lifting routines in the following cell. "
   ]
  },
  {
   "cell_type": "code",
   "execution_count": null,
   "id": "367f5609-7bfa-40a4-b52d-efcf6469f6e2",
   "metadata": {},
   "outputs": [],
   "source": [
    "## Create the Wobus lifter -- it has no other configuration options\n",
    "lifter_wobus = parcel.lifter_wobus()\n",
    "\n",
    "## Create the CM1 lifter\n",
    "lifter_cm1 = parcel.lifter_cm1()\n",
    "\n",
    "## Configure the type of adiabat -- the default is to \n",
    "## use a liquid only pseudoadiabat, which is the same\n",
    "## behavior of the Wobus lifter\n",
    "lifter_cm1.ma_type = thermo.adiabat.pseudo_liq\n",
    "## This is the full list of options available\n",
    "adiabats = [member for member in dir(thermo.adiabat) if not member.startswith(\"_\")]\n",
    "print(f\"All CM1 adiabats: {adiabats}\")\n",
    "\n",
    "## The CM1 lifter is an iterative solver, and we can control\n",
    "## the convergence criteria and subsequently accuracy. The \n",
    "## default is 0.001 Kelvin\n",
    "lifter_cm1.converge = 0.001\n",
    "\n",
    "## The iterative solver has to integrate vertically in fine \n",
    "## increments that often involved interpolation. This setting\n",
    "## controls the pressure increment (in Pa) used for integration. \n",
    "## HOWEVER -- if the data spacing in the vertical is a finer\n",
    "## resolution than the pressure increment, it will use the \n",
    "## native data spacing instead. So, in this example, this \n",
    "## setting will have no effect. The default pressure increment\n",
    "## is 500 Pa (5 mb).\n",
    "lifter_cm1.pressure_incr = 500.0"
   ]
  },
  {
   "cell_type": "markdown",
   "id": "9d616b7f-06eb-4646-869b-d1b73c51755e",
   "metadata": {},
   "source": [
    "## **Step 2: Define parcel starting attributes**\n",
    "Before lifting, we have to define the starting thermodynamic properties and originating level for ascent. SHARPlib provides a few functions to help define some standard parcel types, or you can set parcel starting attributes manually. These helper functions can help define surface based, mixed-layer, and most unstable parcels. \n",
    "\n",
    "### **Surface Based Parcel**\n",
    "The method that creates a surface based parcel is fairly self explanatory. It sets the parcel starting temperature, dewpoint, and pressure to the values passed into the function -- typically, the first array elements of a given profile. An alternative to calling this method is to just set the parcel starting attributes manually! This function exists for convenience and to reduce verbosity. "
   ]
  },
  {
   "cell_type": "code",
   "execution_count": null,
   "id": "20a3a9c6-c614-4fc9-bc1f-bdae379b75ad",
   "metadata": {},
   "outputs": [],
   "source": [
    "sb_pcl = parcel.Parcel.surface_parcel(snd_data[\"pres\"][0], snd_data[\"tmpk\"][0], snd_data[\"dwpk\"][0])\n",
    "\n",
    "## alternatively, can set manually\n",
    "#sb_pcl = parcel.Parcel()\n",
    "#sb_pcl.pres = snd_data[\"pres\"][0]\n",
    "#sb_pcl.tmpk = snd_data[\"tmpk\"][0]\n",
    "#sb_pcl.dwpk = snd_data[\"dwpk\"][0]\n",
    "## OR \n",
    "#sb_pcl = parcel.Parcel(snd_data[\"pres\"][0], snd_data[\"tmpk\"][0], snd_data[\"dwpk\"][0], parcel.LPL.SFC)\n",
    "\n",
    "print(f\"Surface Based Parcel\\t| pres: {sb_pcl.pres} Pa, tmpk: {sb_pcl.tmpk} K, dwpk: {sb_pcl.dwpk} K\")"
   ]
  },
  {
   "cell_type": "markdown",
   "id": "2c4a2bae-736f-4aef-9cce-d71c13399110",
   "metadata": {},
   "source": [
    "### **Mixed-Layer Parcel**\n",
    "The method that creates a mixed-layer parcel takes in a height or pressure layer, and uses this defined layer to compute mean mixing ratio and potential temperature over that depth -- approximating the process of vertically mixing the atmosphere within that layer. The standard depth used at the Storm Prediction Center is a 100mb deep mixing layer from the surface, though any height or pressure layer can be given.  "
   ]
  },
  {
   "cell_type": "code",
   "execution_count": null,
   "id": "e3b46826-1c01-4c2c-9184-167a39e2ab35",
   "metadata": {},
   "outputs": [],
   "source": [
    "mix_layer = layer.PressureLayer(snd_data[\"pres\"][0], snd_data[\"pres\"][0] - 1000.0)\n",
    "mix_layer2 = layer.HeightLayer(0, 1000.0)\n",
    "\n",
    "## mixing ratio is precomputed by the helper function, but not potential temperature\n",
    "theta = thermo.theta(snd_data[\"pres\"], snd_data[\"tmpk\"])\n",
    "\n",
    "ml_pcl = parcel.Parcel.mixed_layer_parcel(mix_layer, snd_data[\"pres\"], theta, snd_data[\"mixr\"])\n",
    "ml_pcl2 = parcel.Parcel.mixed_layer_parcel(mix_layer2, snd_data[\"pres\"], snd_data[\"hght\"], theta, snd_data[\"mixr\"])\n",
    "\n",
    "print(f\"Mixed-Layer Parcel (100 mb)\\t| pres: {ml_pcl.pres} Pa, tmpk: {ml_pcl.tmpk} K, dwpk: {ml_pcl.dwpk} K\")\n",
    "print(f\"Mixed-Layer Parcel (1 km)\\t| pres: {ml_pcl2.pres} Pa, tmpk: {ml_pcl2.tmpk} K, dwpk: {ml_pcl2.dwpk} K\")"
   ]
  },
  {
   "cell_type": "markdown",
   "id": "fa31c77f-f6cb-4d8a-8e98-918e5a5806fb",
   "metadata": {},
   "source": [
    "### **Most Unstable Parcel**\n",
    "The most unstable parcel is a linear search over a given layer for the parcel with the largest CAPE. This is the closest to a \"magic\" function SHARPlib provides for getting CAPE/CINH out of a profile, but can be expesive for high vertical resolution data. In order to keep the scope of the search limited, a PressureLayer or HeightLayer must be provided. Traditionally, SPC searches for the most unstable parcel within the lowest 400 mb. "
   ]
  },
  {
   "cell_type": "code",
   "execution_count": null,
   "id": "638821e4-bf1a-4640-83cb-53e92777c741",
   "metadata": {},
   "outputs": [],
   "source": [
    "search_layer = layer.PressureLayer(snd_data[\"pres\"][0], snd_data[\"pres\"][0] - 40000.0)\n",
    "\n",
    "## Since CAPE/CINH are integrated, a parcel lifter\n",
    "## must be provided \n",
    "mu_pcl_cm1 = parcel.Parcel.most_unstable_parcel(\n",
    "    search_layer, \n",
    "    lifter_cm1,\n",
    "    snd_data[\"pres\"],\n",
    "    snd_data[\"hght\"],\n",
    "    snd_data[\"tmpk\"],\n",
    "    snd_data[\"vtmp\"],\n",
    "    snd_data[\"dwpk\"]\n",
    ")\n",
    "\n",
    "## most unstable parcel using the Wobus lifter\n",
    "mu_pcl_wobf = parcel.Parcel.most_unstable_parcel(\n",
    "    search_layer, \n",
    "    lifter_wobus,\n",
    "    snd_data[\"pres\"],\n",
    "    snd_data[\"hght\"],\n",
    "    snd_data[\"tmpk\"],\n",
    "    snd_data[\"vtmp\"],\n",
    "    snd_data[\"dwpk\"]\n",
    ")\n",
    "print(f\"Most Unstable Parcel (CM1) | CAPE: {mu_pcl_cm1.cape} CINH: {mu_pcl_cm1.cinh} pres: {mu_pcl_cm1.pres} Pa, tmpk: {mu_pcl_cm1.tmpk} K, dwpk: {mu_pcl_cm1.dwpk} K\")\n",
    "print(f\"Most Unstable Parcel (Wobus) | CAPE: {mu_pcl_wobf.cape} CINH: {mu_pcl_wobf.cinh} pres: {mu_pcl_wobf.pres} Pa, tmpk: {mu_pcl_cm1.tmpk} K, dwpk: {mu_pcl_cm1.dwpk} K\")"
   ]
  },
  {
   "cell_type": "markdown",
   "id": "10b69e3d-cbf8-4557-b2ce-e27692a94819",
   "metadata": {},
   "source": [
    "## **Step 3: Compute the parcel virtual temperature**\n",
    "Before computing CAPE/CINH, we need to get the parcel virtual temperature trace. This then gets used to compute buoyancy, and is then integrated to get CAPE/CINH... but thats getting a bit ahead of ourselves. Getting the parcel virtual temperature trace is also incredibly useful for plotting on a Skew-T/Log-P diagram!\n",
    "\n",
    "Lifting a parcel merely takes in the argument of the lifter to be used, and the pressure levels for which to calculate the virtual temperature on. "
   ]
  },
  {
   "cell_type": "code",
   "execution_count": null,
   "id": "7a933d71-920e-4034-9a41-b24761617872",
   "metadata": {},
   "outputs": [],
   "source": [
    "sbpcl_virtemp_cm1 = sb_pcl.lift_parcel(lifter_cm1, snd_data[\"pres\"])\n",
    "sbpcl_virtemp_wobf = sb_pcl.lift_parcel(lifter_wobus, snd_data[\"pres\"])\n",
    "\n",
    "mlpcl_virtemp_cm1 = ml_pcl.lift_parcel(lifter_cm1, snd_data[\"pres\"])\n",
    "mlpcl_virtemp_wobf = ml_pcl.lift_parcel(lifter_wobus, snd_data[\"pres\"])\n",
    "\n",
    "mupcl_virtemp_cm1 = mu_pcl_cm1.lift_parcel(lifter_cm1, snd_data[\"pres\"])\n",
    "mupcl_virtemp_wobf = mu_pcl_wobf.lift_parcel(lifter_wobus, snd_data[\"pres\"])"
   ]
  },
  {
   "cell_type": "markdown",
   "id": "8cc4f522-75ab-47e2-91f5-34b6d87020d0",
   "metadata": {},
   "source": [
    "## **Step 4: Compute buoyancy**\n",
    "It's a faily quick step, but before computing CAPE/CINH, we need buoyancy. We can compute it using the parcel virtual temperature and environment virtual temperature. \n",
    "\n",
    "***NOTE:*** You may wonder, why doesn't ```lift_parcel``` just return buoyancy instead? Well, in early verions of SHARPlib, it *did* return buoyancy, and had an optional argument to return virtual temperature, but it was clunky and didn't abide by the design goals of the library. It also made it more difficult to get the virtual temperature trace in Skew-T applications, which was not sustainable since this library was meant to fulfil that role. Instead of making the API filled with more and more optional function arguments, it was deemed better to aim for correct defaults."
   ]
  },
  {
   "cell_type": "code",
   "execution_count": null,
   "id": "d72746c4-fd44-4104-98e5-a347936e26f1",
   "metadata": {},
   "outputs": [],
   "source": [
    "sbpcl_buoy_cm1 = thermo.buoyancy(sbpcl_virtemp_cm1, snd_data[\"vtmp\"])\n",
    "sbpcl_buoy_wobf = thermo.buoyancy(sbpcl_virtemp_wobf, snd_data[\"vtmp\"])\n",
    "\n",
    "mlpcl_buoy_cm1 = thermo.buoyancy(mlpcl_virtemp_cm1, snd_data[\"vtmp\"])\n",
    "mlpcl_buoy_wobf = thermo.buoyancy(mlpcl_virtemp_wobf, snd_data[\"vtmp\"])\n",
    "\n",
    "mupcl_buoy_cm1 = thermo.buoyancy(mupcl_virtemp_cm1, snd_data[\"vtmp\"])\n",
    "mupcl_buoy_wobf = thermo.buoyancy(mupcl_virtemp_wobf, snd_data[\"vtmp\"])"
   ]
  },
  {
   "cell_type": "markdown",
   "id": "02f8a02f-fe7e-460f-b1fc-e61d2da1da92",
   "metadata": {},
   "source": [
    "## **Step 5: Integrate CAPE/CINH**\n",
    "Now we have all of the ingredients and tools needed to integrate CAPE/CINH. To do that, we need to find the Level of Free Convection and the Equilibrium Level. In SHARPlib, the ```parcel.Parcel.find_lfc_el``` function does this by searching for the LFC/EL combination in the profile that results in the maximum integrated buoyancy. We don't have to call this function ourselves, however, since it is called by ```parcel.Parcel.cape_cinh```. An example of calling ```parcel.Parcel.find_lfc_el``` will be done for completeness, but understand it is not always necessary. "
   ]
  },
  {
   "cell_type": "code",
   "execution_count": null,
   "id": "b3dff9ce-69c9-4a04-9507-b7e439be69af",
   "metadata": {},
   "outputs": [],
   "source": [
    "## example of find_lfc_el\n",
    "## instead of returning a value,\n",
    "## it sets pcl.lfc_pressure and\n",
    "## pcl.eql_pressure \n",
    "sb_pcl.find_lfc_el(snd_data[\"pres\"], snd_data[\"hght\"], sbpcl_buoy_cm1)\n",
    "print(f\"Surface Based Parcel (CM1)\\t| LFC: {sb_pcl.lfc_pressure} Pa\\tEL: {sb_pcl.eql_pressure} Pa\")\n",
    "print(\"------\")\n",
    "\n",
    "sbcape_cm1, sbcinh_cm1 = sb_pcl.cape_cinh(snd_data[\"pres\"], snd_data[\"hght\"], sbpcl_buoy_cm1)\n",
    "print(f\"Surface Based Parcel (CM1)\\t| CAPE: {sbcape_cm1} J/kg\\tCINH: {sbcinh_cm1} J/kg\")\n",
    "sbcape_wobf, sbcinh_wobf = sb_pcl.cape_cinh(snd_data[\"pres\"], snd_data[\"hght\"], sbpcl_buoy_wobf)\n",
    "## CAPE and CINH can also be accessed through the Parcel object\n",
    "print(f\"Surface Based Parcel (Wobus)\\t| CAPE: {sb_pcl.cape} J/kg\\tCINH: {sb_pcl.cinh} J/kg\")\n",
    "\n",
    "print(\"------\")\n",
    "mlcape_cm1, mlcinh_cm1 = ml_pcl.cape_cinh(snd_data[\"pres\"], snd_data[\"hght\"], mlpcl_buoy_cm1)\n",
    "print(f\"Mixed-Layer Parcel (CM1)\\t| CAPE: {mlcape_cm1} J/kg\\tCINH: {mlcinh_cm1} J/kg\")\n",
    "mlcape_wobf, mlcinh_wobf = ml_pcl.cape_cinh(snd_data[\"pres\"], snd_data[\"hght\"], mlpcl_buoy_wobf)\n",
    "print(f\"Mixed-Layer Parcel (Wobus)\\t| CAPE: {ml_pcl.cape} J/kg\\tCINH: {ml_pcl.cinh} J/kg\")\n",
    "print(\"------\")\n",
    "\n",
    "## Remember, our MUPCL has already had CAPE/CINH integrated\n",
    "print(f\"Most Unstable Parcel (CM1)\\t| CAPE: {mu_pcl_cm1.cape} J/kg\\tCINH: {mu_pcl_cm1.cinh} J/kg\")\n",
    "print(f\"Most Unstable Parcel (Wobus)\\t| CAPE: {mu_pcl_wobf.cape} J/kg\\tCINH: {mu_pcl_wobf.cinh} J/kg\")"
   ]
  },
  {
   "cell_type": "markdown",
   "id": "dd7df4bc-9707-42ea-9f31-f2bfbe8a5211",
   "metadata": {},
   "source": [
    "## **Bonus #1: Plot the Parcel Traces**\n",
    "We can use the parcel virtual temperature arrays we've computed and display them on a Skew-T/log-P diagram using MetPy. "
   ]
  },
  {
   "cell_type": "code",
   "execution_count": null,
   "id": "b90b038d-21b8-4c58-bfdd-de0e02a289f0",
   "metadata": {},
   "outputs": [],
   "source": [
    "fig = plt.figure(figsize=(9, 9))\n",
    "skew = SkewT(fig, rotation=45)\n",
    "\n",
    "## Plot the temperature and dewpoint traces\n",
    "## MetPy expects the pressure units in hPa (or mb) and temperature in degrees C.\n",
    "skew.plot(snd_data[\"pres\"] / 100.0, snd_data[\"tmpk\"] - constants.ZEROCNK, 'r', linewidth=2)\n",
    "skew.plot(snd_data[\"pres\"] / 100.0, snd_data[\"vtmp\"] - constants.ZEROCNK, 'r:', linewidth=2)\n",
    "skew.plot(snd_data[\"pres\"] / 100.0, snd_data[\"dwpk\"] - constants.ZEROCNK, 'g', linewidth=2)\n",
    "\n",
    "## plot our parcel traces \n",
    "## since the surface parcel is the most unstable parcel in this example, it wont be plotted\n",
    "skew.plot(snd_data[\"pres\"] / 100.0, sbpcl_virtemp_cm1 - constants.ZEROCNK, color=\"#858585\", linestyle = \":\", label=\"SBPCL-CM1\")\n",
    "skew.plot(snd_data[\"pres\"] / 100.0, sbpcl_virtemp_wobf - constants.ZEROCNK, color=\"#858585\", linestyle = \"--\", label=\"SBPCL-WOBUS\")\n",
    "\n",
    "skew.plot(snd_data[\"pres\"] / 100.0, mlpcl_virtemp_cm1 - constants.ZEROCNK, color=\"#e8aa58\", linestyle = \":\", label=\"MLPCL-CM1\")\n",
    "skew.plot(snd_data[\"pres\"] / 100.0, mlpcl_virtemp_wobf - constants.ZEROCNK, color=\"#e8aa58\", linestyle = \"--\", label=\"MLPCL-WOBUS\")\n",
    "\n",
    "plt.legend()\n",
    "\n",
    "# Show the plot\n",
    "plt.show()"
   ]
  },
  {
   "cell_type": "markdown",
   "id": "3ba63b9a-80b9-4a31-a697-eca1e8c77db0",
   "metadata": {},
   "source": [
    "## **Bonus #2: Non-standard integration**\n",
    "Sometimes, non-zero integration ranges (e.g. 0-3 km CAPE) are desired. So far, the only CAPE/CINH integration we've seen has been \"automatic\", whether its been the calls to ```parcel.Parcel.cape_cinh```, or the ```parcel.Parcel.most_unstable_parcel``` convenience function. Additionally, it may have felt that the process of getting CAPE/CINH has been verbose compared to the older approach in SHARPpy... but this verbosity enables a lot more flexibility in how your interact with the library, as you will see below. \n",
    "\n",
    "In this example, we will compute the 0-3 km CAPE, as well as the CAPE within the Hail Growth Zone. "
   ]
  },
  {
   "cell_type": "code",
   "execution_count": null,
   "id": "c2361a08-0b85-4731-80ff-7b140a5e669d",
   "metadata": {},
   "outputs": [],
   "source": [
    "## Define the layers we want to integrate buoyancy over\n",
    "cape_lyr = layer.HeightLayer(0, 3000.0)\n",
    "## Compute the hail growth zone\n",
    "hgz_lyr_pres = params.hail_growth_layer(snd_data[\"pres\"], snd_data[\"tmpk\"])\n",
    "## since CAPE needs to be integrated on a height grid, \n",
    "## convert from a PressureLayer to a HeightLayer\n",
    "hgz_lyr_hght = layer.pressure_layer_to_height(hgz_lyr_pres, snd_data[\"pres\"], snd_data[\"hght\"])\n",
    "\n",
    "## Integate all positive buoyancy in the layer. This function integrates using the\n",
    "## trapezoid method, and has optional arguments that allow for it to integrate only\n",
    "## positive area, only negative area, or mixed-sign area. It can also weight the \n",
    "## integration based on the input coordinate array. Weighting is usually only done\n",
    "## on pressure coordinate data, and only when needed (which it is not here).\n",
    "cape_0_3km = layer.integrate_layer_trapz(cape_lyr, sbpcl_buoy_cm1, snd_data[\"hght\"], 1, False)\n",
    "cape_hgz = layer.integrate_layer_trapz(hgz_lyr_hght, sbpcl_buoy_cm1, snd_data[\"hght\"], 1, False)\n",
    "\n",
    "print(f\"0-3 km CAPE:\\t{cape_0_3km} J/kg\")\n",
    "print(f\"HGZ CAPE:\\t{cape_hgz} J/kg\")\n"
   ]
  },
  {
   "cell_type": "code",
   "execution_count": null,
   "id": "16b778ce-d10e-4b63-aa63-7302865a9a0a",
   "metadata": {},
   "outputs": [],
   "source": [
    "fig = plt.figure(figsize=(9, 9))\n",
    "skew = SkewT(fig, rotation=45)\n",
    "\n",
    "## get the array indices that correspond\n",
    "## to our layers -- used to index our arrays\n",
    "idx_03km = layer.get_layer_index(cape_lyr, snd_data[\"hght\"])\n",
    "idx_hgz = layer.get_layer_index(hgz_lyr_pres, snd_data[\"pres\"])\n",
    "\n",
    "## Plot the temperature and dewpoint traces\n",
    "## MetPy expects the pressure units in hPa (or mb) and temperature in degrees C.\n",
    "skew.plot(snd_data[\"pres\"] / 100.0, snd_data[\"tmpk\"] - constants.ZEROCNK, 'r', linewidth=2)\n",
    "skew.plot(snd_data[\"pres\"] / 100.0, snd_data[\"vtmp\"] - constants.ZEROCNK, 'r:', linewidth=2)\n",
    "skew.plot(snd_data[\"pres\"] / 100.0, snd_data[\"dwpk\"] - constants.ZEROCNK, 'g', linewidth=2)\n",
    "\n",
    "## plot our parcel trace\n",
    "skew.plot(snd_data[\"pres\"] / 100.0, sbpcl_virtemp_cm1 - constants.ZEROCNK, color=\"#858585\", linestyle = \":\", label=\"SBPCL-CM1\")\n",
    "\n",
    "## Fill to show our regions\n",
    "skew.shade_area(\n",
    "    snd_data[\"pres\"][idx_03km.kbot:idx_03km.ktop] / 100.0,\n",
    "    sbpcl_virtemp_cm1[idx_03km.kbot:idx_03km.ktop] - constants.ZEROCNK,\n",
    "    snd_data[\"vtmp\"][idx_03km.kbot:idx_03km.ktop] - constants.ZEROCNK,\n",
    "    which='positive',\n",
    "    color=\"red\", \n",
    "    alpha=0.5,\n",
    "    label=\"0-3 km CAPE\"\n",
    ")\n",
    "\n",
    "skew.shade_area(\n",
    "    snd_data[\"pres\"][idx_hgz.kbot:idx_hgz.ktop] / 100.0,\n",
    "    sbpcl_virtemp_cm1[idx_hgz.kbot:idx_hgz.ktop] - constants.ZEROCNK,\n",
    "    snd_data[\"vtmp\"][idx_hgz.kbot:idx_hgz.ktop] - constants.ZEROCNK,\n",
    "    which='positive',\n",
    "    color=\"yellow\", \n",
    "    alpha=0.5,\n",
    "    label=\"HGZ CAPE\"\n",
    ")\n",
    "\n",
    "plt.legend()\n",
    "\n",
    "# Show the plot\n",
    "plt.show()"
   ]
  },
  {
   "cell_type": "code",
   "execution_count": null,
   "id": "d712f67b-e8dc-4079-a46c-38a7b78062db",
   "metadata": {},
   "outputs": [],
   "source": []
  }
 ],
 "metadata": {
  "kernelspec": {
   "display_name": "Python 3 (ipykernel)",
   "language": "python",
   "name": "python3"
  },
  "language_info": {
   "codemirror_mode": {
    "name": "ipython",
    "version": 3
   },
   "file_extension": ".py",
   "mimetype": "text/x-python",
   "name": "python",
   "nbconvert_exporter": "python",
   "pygments_lexer": "ipython3",
   "version": "3.13.3"
  }
 },
 "nbformat": 4,
 "nbformat_minor": 5
}
