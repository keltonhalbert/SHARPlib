{
 "cells": [
  {
   "cell_type": "code",
   "execution_count": 1,
   "id": "fb7985aa-4d76-43d3-a001-674f0406b224",
   "metadata": {},
   "outputs": [],
   "source": [
    "import dask\n",
    "import logging\n",
    "import numpy as np\n",
    "import xarray as xr\n",
    "from distributed import Client\n",
    "\n",
    "from nwsspc.sharp.calc import constants\n",
    "from nwsspc.sharp.calc import parcel\n",
    "from nwsspc.sharp.calc import params\n",
    "from nwsspc.sharp.calc import thermo\n",
    "from nwsspc.sharp.calc import layer\n",
    "\n",
    "client = Client(n_workers=16, memory_limit='4GB', silence_logs=logging.ERROR)\n",
    "client"
   ]
  },
  {
   "cell_type": "code",
   "execution_count": 2,
   "id": "7c1d541a-e359-4c64-9ac3-f73bdc25c5d5",
   "metadata": {},
   "outputs": [],
   "source": [
    "chunks = {\"y\": 25, \"x\": -1}\n",
    "\n",
    "\n",
    "ds_hybrid = xr.open_dataset(\n",
    "    \"hrrr-hybrid.json\", \n",
    "    engine=\"kerchunk\", \n",
    "    decode_timedelta=True\n",
    ")[[\"pres\", \"gh\", \"t\", \"q\"]].astype(\"float32\").load().chunk(dict(hybrid=-1, **chunks))\n",
    "\n",
    "ds_2m = xr.open_dataset(\n",
    "    \"hrrr-2m.json\", \n",
    "    engine=\"kerchunk\", \n",
    "    decode_timedelta=True\n",
    ")[[\"t2m\", \"sh2\"]].astype(\"float32\").load().chunk(chunks)\n",
    "\n",
    "ds_sfc = xr.open_dataset(\n",
    "    \"hrrr-surface.json\", \n",
    "    engine=\"kerchunk\", \n",
    "    decode_timedelta=True\n",
    ")[[\"sp\"]].astype(\"float32\").load().chunk(chunks)"
   ]
  },
  {
   "cell_type": "code",
   "execution_count": 3,
   "id": "a24e02fa-810d-4d59-8a5e-b716ff84affe",
   "metadata": {},
   "outputs": [
    {
     "name": "stdout",
     "output_type": "stream",
     "text": [
      "<xarray.Dataset> Size: 2GB\n",
      "Dimensions:     (hybrid: 50, y: 1059, x: 1799)\n",
      "Coordinates:\n",
      "  * hybrid      (hybrid) float64 400B 1.0 2.0 3.0 4.0 ... 47.0 48.0 49.0 50.0\n",
      "    latitude    (y, x) float64 15MB dask.array<chunksize=(1059, 1799), meta=np.ndarray>\n",
      "    longitude   (y, x) float64 15MB dask.array<chunksize=(1059, 1799), meta=np.ndarray>\n",
      "    step        (hybrid) timedelta64[ns] 400B dask.array<chunksize=(50,), meta=np.ndarray>\n",
      "    time        (hybrid) datetime64[ns] 400B dask.array<chunksize=(50,), meta=np.ndarray>\n",
      "    valid_time  (hybrid) datetime64[ns] 400B dask.array<chunksize=(50,), meta=np.ndarray>\n",
      "Dimensions without coordinates: y, x\n",
      "Data variables:\n",
      "    pres        (hybrid, y, x) float32 381MB dask.array<chunksize=(50, 1059, 1799), meta=np.ndarray>\n",
      "    gh          (hybrid, y, x) float32 381MB dask.array<chunksize=(50, 1059, 1799), meta=np.ndarray>\n",
      "    t           (hybrid, y, x) float32 381MB dask.array<chunksize=(50, 1059, 1799), meta=np.ndarray>\n",
      "    q           (hybrid, y, x) float32 381MB dask.array<chunksize=(50, 1059, 1799), meta=np.ndarray>\n",
      "Attributes:\n",
      "    GRIB_edition:            2\n",
      "    GRIB_centre:             kwbc\n",
      "    GRIB_centreDescription:  US National Weather Service - NCEP\n",
      "    GRIB_subCentre:          0\n",
      "    institution:             US National Weather Service - NCEP\n",
      "<xarray.Dataset> Size: 46MB\n",
      "Dimensions:            (heightAboveGround: 1, y: 1059, x: 1799)\n",
      "Coordinates:\n",
      "  * heightAboveGround  (heightAboveGround) float64 8B 2.0\n",
      "    latitude           (y, x) float64 15MB dask.array<chunksize=(1059, 1799), meta=np.ndarray>\n",
      "    longitude          (y, x) float64 15MB dask.array<chunksize=(1059, 1799), meta=np.ndarray>\n",
      "    step               (heightAboveGround) timedelta64[ns] 8B dask.array<chunksize=(1,), meta=np.ndarray>\n",
      "    time               (heightAboveGround) datetime64[ns] 8B dask.array<chunksize=(1,), meta=np.ndarray>\n",
      "    valid_time         (heightAboveGround) datetime64[ns] 8B dask.array<chunksize=(1,), meta=np.ndarray>\n",
      "Dimensions without coordinates: y, x\n",
      "Data variables:\n",
      "    t2m                (heightAboveGround, y, x) float32 8MB dask.array<chunksize=(1, 1059, 1799), meta=np.ndarray>\n",
      "    sh2                (heightAboveGround, y, x) float32 8MB dask.array<chunksize=(1, 1059, 1799), meta=np.ndarray>\n",
      "Attributes:\n",
      "    GRIB_edition:            2\n",
      "    GRIB_centre:             kwbc\n",
      "    GRIB_centreDescription:  US National Weather Service - NCEP\n",
      "    GRIB_subCentre:          0\n",
      "    institution:             US National Weather Service - NCEP\n"
     ]
    }
   ],
   "source": [
    "print(ds_hybrid)\n",
    "print(ds_2m)"
   ]
  },
  {
   "cell_type": "code",
   "execution_count": 4,
   "id": "dae71bbe-90a4-40ac-bf7d-ad2a10dac365",
   "metadata": {},
   "outputs": [],
   "source": [
    "def compute_everything(pres, hght, tmpk, spfh, sp, t2m, sh2, use_2m=True):\n",
    "    mixr = thermo.mixratio(spfh)\n",
    "    mixr_2m = thermo.mixratio(sh2)\n",
    "\n",
    "    mixr[mixr < constants.TOL] = constants.TOL\n",
    "    if (mixr_2m < constants.TOL): mixr_2m = constants.TOL\n",
    "\n",
    "    vtmp = thermo.virtual_temperature(tmpk, mixr)\n",
    "    dwpk = thermo.temperature_at_mixratio(mixr, pres)\n",
    "\n",
    "    if (use_2m):\n",
    "        dwpk_2m = thermo.temperature_at_mixratio(mixr_2m, sp)\n",
    "        pcl = parcel.Parcel(sp, t2m, dwpk_2m, parcel.LPL.SFC)\n",
    "    else: \n",
    "        pcl = parcel.Parcel(pres[0], tmpk[0], dwpk[0], parcel.LPL.SFC)\n",
    "\n",
    "    lifter = parcel.lifter_cm1()\n",
    "    lifter.ma_type = thermo.adiabat.pseudo_liq\n",
    "    lifter.converge = 0.15\n",
    "\n",
    "    pcl_vtmp = pcl.lift_parcel(lifter, pres)\n",
    "    pcl_buoy = thermo.buoyancy(pcl_vtmp, vtmp)\n",
    "    cape, cinh = pcl.cape_cinh(pres, hght, pcl_buoy)\n",
    "\n",
    "    mupcl = parcel.Parcel()\n",
    "    eil = params.effective_inflow_layer(\n",
    "        lifter,\n",
    "        pres,\n",
    "        hght,\n",
    "        tmpk,\n",
    "        dwpk,\n",
    "        vtmp,\n",
    "        mupcl=mupcl\n",
    "    )\n",
    "\n",
    "    return cape, cinh, eil.bottom, eil.top"
   ]
  },
  {
   "cell_type": "code",
   "execution_count": 5,
   "id": "961c0b31-98e3-4296-a9ee-a36e89a6f634",
   "metadata": {},
   "outputs": [],
   "source": [
    "input_core_dims = [\n",
    "    [\"hybrid\"], [\"hybrid\"],\n",
    "    [\"hybrid\"], [\"hybrid\"],\n",
    "    [], [], []\n",
    "]"
   ]
  },
  {
   "cell_type": "code",
   "execution_count": null,
   "id": "fdaef9d2-38f7-40a9-ac49-d70302ae7dd6",
   "metadata": {},
   "outputs": [],
   "source": [
    "%%time\n",
    "cape, cinh, eil_pbot, eil_ptop = xr.apply_ufunc(\n",
    "    compute_everything, \n",
    "    ds_hybrid[\"pres\"],\n",
    "    ds_hybrid[\"gh\"],\n",
    "    ds_hybrid[\"t\"],\n",
    "    ds_hybrid[\"q\"],\n",
    "    ds_sfc[\"sp\"],\n",
    "    ds_2m[\"t2m\"],\n",
    "    ds_2m[\"sh2\"],\n",
    "    input_core_dims=input_core_dims,\n",
    "    output_core_dims=[[], [], [], []],\n",
    "    vectorize=True,\n",
    "    dask=\"parallelized\",\n",
    "    output_dtypes=[np.float32, np.float32, np.float32, np.float32],\n",
    "    kwargs={\"use_2m\": True},\n",
    ")\n",
    "\n",
    "cape, cinh, eil_pbot, eil_ptop = dask.compute(cape, cinh, eil_pbot, eil_ptop)"
   ]
  },
  {
   "cell_type": "code",
   "execution_count": null,
   "id": "a693ed31-718c-4db0-be9f-53c60a7801de",
   "metadata": {},
   "outputs": [],
   "source": [
    "print(cape.max(), cinh.min(), eil_pbot.min(), eil_pbot.max())"
   ]
  },
  {
   "cell_type": "code",
   "execution_count": null,
   "id": "fab692de-ed92-4fff-afcc-c052a19b59d0",
   "metadata": {},
   "outputs": [],
   "source": []
  }
 ],
 "metadata": {
  "kernelspec": {
   "display_name": "Python 3 (ipykernel)",
   "language": "python",
   "name": "python3"
  },
  "language_info": {
   "codemirror_mode": {
    "name": "ipython",
    "version": 3
   },
   "file_extension": ".py",
   "mimetype": "text/x-python",
   "name": "python",
   "nbconvert_exporter": "python",
   "pygments_lexer": "ipython3",
   "version": "3.13.5"
  }
 },
 "nbformat": 4,
 "nbformat_minor": 5
}
